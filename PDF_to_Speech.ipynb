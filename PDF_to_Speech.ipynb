{
 "cells": [
  {
   "cell_type": "markdown",
   "metadata": {},
   "source": [
    "# a **PDF-to-Speech** Notebook"
   ]
  },
  {
   "cell_type": "markdown",
   "metadata": {
    "id": "oEm0hB9twAvt"
   },
   "source": [
    "### Importing Libraries"
   ]
  },
  {
   "cell_type": "markdown",
   "metadata": {},
   "source": [
    "#### PyPDF2 is a Pure-Python Library built as a PDF toolkit. It is capable of:\n",
    "* extracting document information (title, author, …)\n",
    "* splitting documents page by page\n",
    "* merging documents page by page\n",
    "* cropping pages\n",
    "* merging multiple pages into a single page\n",
    "* encrypting and decrypting PDF files\n",
    "* and more!"
   ]
  },
  {
   "cell_type": "code",
   "execution_count": 1,
   "metadata": {
    "colab": {
     "base_uri": "https://localhost:8080/"
    },
    "id": "YPF1y2WnxWh3",
    "outputId": "ae267207-eee9-4bfe-b3b1-be00af34a63e"
   },
   "outputs": [
    {
     "name": "stdout",
     "output_type": "stream",
     "text": [
      "Collecting PyPDF2\n",
      "  Downloading PyPDF2-1.26.0.tar.gz (77 kB)\n",
      "Building wheels for collected packages: PyPDF2\n",
      "  Building wheel for PyPDF2 (setup.py): started\n",
      "  Building wheel for PyPDF2 (setup.py): finished with status 'done'\n",
      "  Created wheel for PyPDF2: filename=PyPDF2-1.26.0-py3-none-any.whl size=61087 sha256=c2d82a025416ed798a2787e72648014c186a67f6b2ae92f1930c940ad7920f28\n",
      "  Stored in directory: c:\\users\\ecsan\\appdata\\local\\pip\\cache\\wheels\\b1\\1a\\8f\\a4c34be976825a2f7948d0fa40907598d69834f8ab5889de11\n",
      "Successfully built PyPDF2\n",
      "Installing collected packages: PyPDF2\n",
      "Successfully installed PyPDF2-1.26.0\n",
      "Note: you may need to restart the kernel to use updated packages.\n"
     ]
    }
   ],
   "source": [
    "pip install PyPDF2"
   ]
  },
  {
   "cell_type": "markdown",
   "metadata": {},
   "source": [
    "#### pyttsx3 is a Text-to-Speech conversion Library in Python that, unlike alternative Libraries, works offline and is compatible with both Python 2 and 3."
   ]
  },
  {
   "cell_type": "markdown",
   "metadata": {},
   "source": [
    "#### Importing Libraries"
   ]
  },
  {
   "cell_type": "code",
   "execution_count": 1,
   "metadata": {
    "id": "lPKCKeVLxlp3"
   },
   "outputs": [],
   "source": [
    "import PyPDF2\n",
    "import pyttsx3"
   ]
  },
  {
   "cell_type": "markdown",
   "metadata": {
    "id": "WTUaWPYBwxhj"
   },
   "source": [
    "#### Defining the target PDF (local machine only, it doesn't appear - at least to me - to work on GColab)"
   ]
  },
  {
   "cell_type": "code",
   "execution_count": 2,
   "metadata": {
    "id": "Np6QpcBjxuH3"
   },
   "outputs": [],
   "source": [
    "path = open('glossário-do-trade-marketing.pdf', 'rb')"
   ]
  },
  {
   "cell_type": "markdown",
   "metadata": {},
   "source": [
    "#### Configuring the Reader"
   ]
  },
  {
   "cell_type": "code",
   "execution_count": 3,
   "metadata": {
    "id": "F-ZQioIKwMuc"
   },
   "outputs": [],
   "source": [
    "pdfReader = PyPDF2.PdfFileReader(path)"
   ]
  },
  {
   "cell_type": "code",
   "execution_count": 4,
   "metadata": {
    "id": "Nc0Vz6p3ye-e"
   },
   "outputs": [],
   "source": [
    "# Defining the Page to be read. As per StackOverflow, if you need the whole Document, you need to run a \"For\" Loop.\n",
    "from_page = pdfReader.getPage(4)"
   ]
  },
  {
   "cell_type": "code",
   "execution_count": 5,
   "metadata": {
    "id": "hwH8sG40zlyi"
   },
   "outputs": [],
   "source": [
    "text = from_page.extractText()"
   ]
  },
  {
   "cell_type": "markdown",
   "metadata": {},
   "source": [
    "#### Initializing the Speech-to-Text Engine"
   ]
  },
  {
   "cell_type": "code",
   "execution_count": 6,
   "metadata": {
    "colab": {
     "base_uri": "https://localhost:8080/",
     "height": 425
    },
    "id": "tFIHF405zrs7",
    "outputId": "021eec7b-47a5-4957-da50-fa7eab1dbd1b"
   },
   "outputs": [],
   "source": [
    "speak = pyttsx3.init()"
   ]
  },
  {
   "cell_type": "code",
   "execution_count": 7,
   "metadata": {
    "colab": {
     "base_uri": "https://localhost:8080/",
     "height": 163
    },
    "id": "fNij5d111Lqn",
    "outputId": "e0dc33ab-5337-4642-ae8a-01b900f7a270"
   },
   "outputs": [],
   "source": [
    "speak.say(text)"
   ]
  },
  {
   "cell_type": "code",
   "execution_count": null,
   "metadata": {
    "id": "5hLjFxC71MNG"
   },
   "outputs": [],
   "source": [
    "# A Female - very - robotic voice reads the Text.\n",
    "speak.runAndWait()"
   ]
  }
 ],
 "metadata": {
  "colab": {
   "name": "PDF to Speech.ipynb",
   "provenance": []
  },
  "kernelspec": {
   "display_name": "Python 3",
   "language": "python",
   "name": "python3"
  },
  "language_info": {
   "codemirror_mode": {
    "name": "ipython",
    "version": 3
   },
   "file_extension": ".py",
   "mimetype": "text/x-python",
   "name": "python",
   "nbconvert_exporter": "python",
   "pygments_lexer": "ipython3",
   "version": "3.8.5"
  }
 },
 "nbformat": 4,
 "nbformat_minor": 1
}
